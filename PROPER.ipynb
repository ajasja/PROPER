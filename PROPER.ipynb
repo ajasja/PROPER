{
  "cells": [
    {
      "cell_type": "markdown",
      "metadata": {
        "id": "Lj2KvObB-oCZ"
      },
      "source": [
        "# PROPER -- Single-chain permuted proteins for dimerization-based control of protein activity and cellular processes\n",
        "\n",
        "Strategies for detecting and controlling protein interactions play a critical role in gaining an insight into molecular mechanisms of biological processes and for the control of cellular processes. Conditional protein reconstitution allows control of the selected protein function based on the proximity, defined by the genetically fused domain pairs, which may be regulated by chemical or biological signals. This typically requires two protein components in a stoichiometric ratio, which increases the complexity and genetic footprint with split segments often being unstable and prone to aggregation. To overcome this limitation, we developed an approach based on a permuted protein reconstitution by conditional dimerization (PROPER). According to this strategy, the N- and C-terminal domains of selected proteins are swapped and a loop replaced by a short linker that prevents the functionality of a monomeric protein, which reconstitutes only upon di- or oligomerization, controlled by a genetically fused domain that dimerizes by a chemical signal or senses a dimeric target. \n",
        "\n",
        "This notebook enables the design of permuted \"PROPER\" proteins.\n"
      ]
    },
    {
      "cell_type": "code",
      "execution_count": null,
      "metadata": {
        "cellView": "form",
        "id": "wiDecl1L9cZ8"
      },
      "outputs": [],
      "source": [
        "#@title Setup and import packages\n",
        "#@markdown This step takes ~3 minutes. \n",
        "!pip install py3Dmol biopython mdtraj pdb-tools> /dev/null\n",
        "import py3Dmol\n",
        "from ipywidgets import interact, interactive, fixed, interact_manual\n",
        "import ipywidgets as widgets\n",
        "from ipywidgets.widgets import IntSlider, Layout, FloatSlider, Checkbox, ToggleButtons, HBox, VBox, Button, Text\n",
        "from pathlib import Path\n",
        "\n"
      ]
    }
  ],
  "metadata": {
    "accelerator": "GPU",
    "colab": {
      "gpuType": "T4",
      "include_colab_link": true,
      "machine_shape": "hm",
      "provenance": []
    },
    "gpuClass": "standard",
    "kernelspec": {
      "display_name": "Python 3",
      "name": "python3"
    },
    "language_info": {
      "name": "python"
    }
  },
  "nbformat": 4,
  "nbformat_minor": 0
}
