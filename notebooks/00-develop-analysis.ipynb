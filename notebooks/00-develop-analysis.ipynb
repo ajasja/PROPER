{
 "cells": [
  {
   "cell_type": "code",
   "execution_count": null,
   "metadata": {},
   "outputs": [],
   "source": [
    "%load_ext autoreload\n",
    "%autoreload 2\n",
    "import os; print(os.getcwd())\n",
    "import socket; print(socket.gethostname())\n",
    "\n",
    "import sys\n",
    "sys.path.append(\"../\")\n",
    "\n",
    "import proper \n",
    "import mdtraj as md "
   ]
  },
  {
   "cell_type": "code",
   "execution_count": null,
   "metadata": {},
   "outputs": [],
   "source": [
    "analyzer=proper.LoopAnalyzer('TEVp_full.pdb', include_dssp='L')\n",
    "features=analyzer.analyze_structure()\n"
   ]
  },
  {
   "cell_type": "code",
   "execution_count": null,
   "metadata": {},
   "outputs": [],
   "source": [
    "features.to_excel('test.xlsx')"
   ]
  },
  {
   "cell_type": "code",
   "execution_count": null,
   "metadata": {},
   "outputs": [],
   "source": []
  },
  {
   "cell_type": "code",
   "execution_count": null,
   "metadata": {},
   "outputs": [],
   "source": [
    "q=features.query('loop_sasa_A_per_res>80')\n",
    "q=features.query('resi_burial_percent<50')\n",
    "\n",
    "print('color green')\n",
    "print_pymol_selection(q)\n",
    "print('color red, sele')"
   ]
  },
  {
   "cell_type": "code",
   "execution_count": null,
   "metadata": {},
   "outputs": [],
   "source": [
    "def get_middle_row(group):\n",
    "    sorted_group = group.sort_values(by='resi_index0').reset_index(drop=True)\n",
    "    mid_index = len(sorted_group) // 2\n",
    "    # For even-sized groups, this returns the lower middle\n",
    "    return sorted_group.iloc[mid_index - 1 if len(sorted_group) % 2 == 0 else mid_index]\n",
    "\n",
    "# Apply the function to each group and reset index\n",
    "middle_rows = q.groupby('loop_index0', group_keys=False).apply(get_middle_row).reset_index(drop=True)\n",
    "middle_rows\n"
   ]
  },
  {
   "cell_type": "code",
   "execution_count": null,
   "metadata": {},
   "outputs": [],
   "source": [
    "# make permutations\n",
    "\n",
    "\n",
    "tev_seq = 'PRDYNPISSTICHLTNESDGHTTSLYGIGFGPFIITNKHLFRRNNGTLLVQSLHGVFKVKNTTTLQQHLIDGRDMIIIRMPKDFPPFPQKLKFREPQREERICLVTTNFQTKSMSSMVSDTSCTFPSSDGIFWKHWIQTKDGQCGSPLVSTRDGFIVGIHSASNFTNTNNYFTSVPKNFMELLTNQEAQQWVSGWRLNADSVLWGGHKVFMSKPEEP'\n",
    "linker = 'GSGSGSGS'\n",
    "permute_seq_with_linker(tev_seq, position0=118-1-6, linker=linker )"
   ]
  }
 ],
 "metadata": {
  "kernelspec": {
   "display_name": "proper_conda",
   "language": "python",
   "name": "python3"
  },
  "language_info": {
   "codemirror_mode": {
    "name": "ipython",
    "version": 3
   },
   "file_extension": ".py",
   "mimetype": "text/x-python",
   "name": "python",
   "nbconvert_exporter": "python",
   "pygments_lexer": "ipython3",
   "version": "3.11.11"
  },
  "orig_nbformat": 4
 },
 "nbformat": 4,
 "nbformat_minor": 2
}
