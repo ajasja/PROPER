{
 "cells": [
  {
   "cell_type": "code",
   "execution_count": null,
   "metadata": {},
   "outputs": [],
   "source": [
    "%load_ext autoreload\n",
    "%autoreload 2\n",
    "import os; print(os.getcwd())\n",
    "import socket; print(socket.gethostname())\n",
    "\n",
    "import sys\n",
    "sys.path.append(\"../\")\n",
    "\n",
    "import proper \n"
   ]
  },
  {
   "cell_type": "code",
   "execution_count": null,
   "metadata": {},
   "outputs": [],
   "source": [
    "analyzer=proper.LoopAnalyzer('../example_data/TEVp_full.pdb', include_dssp='L')\n",
    "features=analyzer.analyze_structure()\n"
   ]
  },
  {
   "cell_type": "code",
   "execution_count": null,
   "metadata": {},
   "outputs": [],
   "source": [
    "features.to_excel('test.xlsx')\n",
    "q=analyzer.suggest_sites('resi_burial_percent<50', one_site_per_loop=True)"
   ]
  },
  {
   "cell_type": "code",
   "execution_count": null,
   "metadata": {},
   "outputs": [],
   "source": [
    "\n",
    "q"
   ]
  },
  {
   "cell_type": "code",
   "execution_count": null,
   "metadata": {},
   "outputs": [],
   "source": [
    "\n",
    "print('color green')\n",
    "proper.print_pymol_selection(q)\n",
    "print('color red, sele')"
   ]
  },
  {
   "cell_type": "code",
   "execution_count": null,
   "metadata": {},
   "outputs": [],
   "source": [
    "\n",
    "df = analyzer.suggest_sites('resi_burial_percent<50', one_site_per_loop=True)"
   ]
  },
  {
   "cell_type": "code",
   "execution_count": null,
   "metadata": {},
   "outputs": [],
   "source": [
    "def_linkers =\"\"\"\\\n",
    ">08AA\n",
    "GSGSGSGS\n",
    ">12AA\n",
    "GSGSGSGSGSGS\n",
    ">20AA\n",
    "GAGGEGSGGGSGGKGSGGT\n",
    "\"\"\"\n",
    "proper.load_fasta_or_single_line(def_linkers)"
   ]
  },
  {
   "cell_type": "code",
   "execution_count": null,
   "metadata": {},
   "outputs": [],
   "source": [
    "# make permutations\n",
    "\n",
    "\n",
    "\n",
    "tev_seq = 'PRDYNPISSTICHLTNESDGHTTSLYGIGFGPFIITNKHLFRRNNGTLLVQSLHGVFKVKNTTTLQQHLIDGRDMIIIRMPKDFPPFPQKLKFREPQREERICLVTTNFQTKSMSSMVSDTSCTFPSSDGIFWKHWIQTKDGQCGSPLVSTRDGFIVGIHSASNFTNTNNYFTSVPKNFMELLTNQEAQQWVSGWRLNADSVLWGGHKVFMSKPEEP'\n",
    "linker = 'GSGSGSGS'\n",
    "proper.permute_seq_with_linker(tev_seq, position0=118-1-6, linker=linker )"
   ]
  },
  {
   "cell_type": "code",
   "execution_count": null,
   "metadata": {},
   "outputs": [],
   "source": [
    "construct_name = 'TEV'\n",
    "seq = tev_seq\n",
    "linkers = proper.load_fasta_or_single_line(def_linkers)\n",
    "positions1 = [70 - 6, 118 - 6, 191 - 6]\n",
    "out_file = 'permuted_sequences.fasta'\n",
    "proper.generate_permuted_sequences(construct_name, seq, linkers, positions1, out_file)\n",
    "print(proper.file_to_str(out_file))\n"
   ]
  },
  {
   "cell_type": "code",
   "execution_count": null,
   "metadata": {},
   "outputs": [],
   "source": [
    "proper.load_fasta_dictionary(proper.file_to_str(out_file))\n",
    "\n"
   ]
  },
  {
   "cell_type": "code",
   "execution_count": null,
   "metadata": {},
   "outputs": [],
   "source": [
    "out_file_dimer = 'permuted_sequences-dimers.fasta'\n",
    "proper.make_dimers_fasta(out_file, out_file_dimer)\n",
    "proper.load_fasta_dictionary(proper.file_to_str(out_file_dimer))"
   ]
  }
 ],
 "metadata": {
  "kernelspec": {
   "display_name": "proper_conda",
   "language": "python",
   "name": "python3"
  },
  "language_info": {
   "codemirror_mode": {
    "name": "ipython",
    "version": 3
   },
   "file_extension": ".py",
   "mimetype": "text/x-python",
   "name": "python",
   "nbconvert_exporter": "python",
   "pygments_lexer": "ipython3",
   "version": "3.11.11"
  },
  "orig_nbformat": 4
 },
 "nbformat": 4,
 "nbformat_minor": 2
}
