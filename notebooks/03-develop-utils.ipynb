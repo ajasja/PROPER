{
 "cells": [
  {
   "cell_type": "code",
   "execution_count": null,
   "metadata": {},
   "outputs": [],
   "source": [
    "%load_ext autoreload\n",
    "%autoreload 2\n",
    "import os; print(os.getcwd())\n",
    "import socket; print(socket.gethostname())\n",
    "\n",
    "import sys\n",
    "sys.path.append(\"../\")\n",
    "\n",
    "import proper \n"
   ]
  },
  {
   "cell_type": "code",
   "execution_count": 6,
   "metadata": {},
   "outputs": [],
   "source": [
    "proper.clean_pdb('../example_data/1q31.pdb','1q31_clean.pdb')\n",
    "proper.clean_pdb('../example_data/TEVp_full.pdb','TEVp_full_clean.pdb')\n",
    "proper.clean_pdb('TEVp_full_clean.pdb','TEVp_full_clean.pdb')"
   ]
  }
 ],
 "metadata": {
  "kernelspec": {
   "display_name": "proper_conda",
   "language": "python",
   "name": "python3"
  },
  "language_info": {
   "codemirror_mode": {
    "name": "ipython",
    "version": 3
   },
   "file_extension": ".py",
   "mimetype": "text/x-python",
   "name": "python",
   "nbconvert_exporter": "python",
   "pygments_lexer": "ipython3",
   "version": "3.11.11"
  }
 },
 "nbformat": 4,
 "nbformat_minor": 2
}
