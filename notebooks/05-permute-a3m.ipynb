{
 "cells": [
  {
   "cell_type": "code",
   "execution_count": null,
   "metadata": {},
   "outputs": [],
   "source": [
    "%load_ext autoreload\n",
    "%autoreload 2\n",
    "import os; print(os.getcwd())\n",
    "import socket; print(socket.gethostname())\n",
    "\n",
    "import sys\n",
    "sys.path.append(\"../\")\n",
    "\n",
    "import proper \n",
    "import mdtraj as md \n",
    "import Bio.SeqIO\n"
   ]
  },
  {
   "cell_type": "code",
   "execution_count": null,
   "metadata": {},
   "outputs": [],
   "source": [
    "def find_first_comment_line(file_handle):\n",
    "    for line in file_handle:\n",
    "        if line.startswith(\"#\"):\n",
    "            return line.strip()\n",
    "    return None  # If no comment line is found\n",
    "\n",
    "def fix_header_length(input_str : str, linker_length :int) -> str:\n",
    "    # Split the string by tab\n",
    "    if '\\t' not in input_str:\n",
    "        raise ValueError(\"Input string must be in the format '#<number>\\\\t<number>'\")\n",
    "        \n",
    "    part1, part2 = input_str.strip().split('\\t')\n",
    "    \n",
    "    number1 = int(part1.strip('#'))\n",
    "    \n",
    "    # Add the value\n",
    "    number1 += linker_length\n",
    "    \n",
    "    # Return in original format\n",
    "    return f\"#{number1}\\t{part2}\""
   ]
  },
  {
   "cell_type": "code",
   "execution_count": null,
   "metadata": {},
   "outputs": [],
   "source": [
    "## permute the a3m\n",
    "a3m_file = 'TEV_trunc_dimer.a3m'\n",
    "out_file = 'TEV_118-20AA.a3m'\n",
    "linker = 'GGAGGEGSGGGSGGKGSGGT'\n",
    "position0 = 118-1-6 \n",
    "\n",
    "\n",
    "with open(a3m_file, \"r\") as a3m_handle:\n",
    "    with open(out_file, \"w\") as out_handle:\n",
    "        header = find_first_comment_line(a3m_handle)\n",
    "        if header is None:\n",
    "            #If no header start reading from the beginning for biopython. Looks like a regular fasta.\n",
    "            a3m_handle.seek(0)\n",
    "            # TODO make new header or just throw exception\n",
    "        new_header = fix_header_length(header, len(linker))\n",
    "        out_handle.write(new_header+'\\n')\n",
    "        seqs = list(Bio.SeqIO.parse(a3m_handle, \"fasta\"))\n",
    "        first_len = len(seqs[0].seq)\n",
    "        for seq in seqs:\n",
    "            #print(seq.description)\n",
    "            # Trunc all sequences to length of original seq\n",
    "            permut_seq = proper.permute_seq_with_linker(seq.seq, position0=position0, linker=linker)\n",
    "            out_handle.write('>'+seq.description+'\\n')\n",
    "            out_handle.write(str(permut_seq)+'\\n')\n",
    "\n",
    "\n",
    "\n",
    "\n"
   ]
  }
 ],
 "metadata": {
  "kernelspec": {
   "display_name": "proper_conda",
   "language": "python",
   "name": "python3"
  },
  "language_info": {
   "codemirror_mode": {
    "name": "ipython",
    "version": 3
   },
   "file_extension": ".py",
   "mimetype": "text/x-python",
   "name": "python",
   "nbconvert_exporter": "python",
   "pygments_lexer": "ipython3",
   "version": "3.11.11"
  },
  "orig_nbformat": 4
 },
 "nbformat": 4,
 "nbformat_minor": 2
}
