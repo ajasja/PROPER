{
 "cells": [
  {
   "cell_type": "code",
   "execution_count": null,
   "metadata": {},
   "outputs": [],
   "source": [
    "%load_ext autoreload\n",
    "%autoreload 2\n",
    "import os; print(os.getcwd())\n",
    "import socket; print(socket.gethostname())\n",
    "\n",
    "from Bio import SeqIO\n",
    "import argparse\n",
    "import json\n",
    "import os\n",
    "from pathlib import Path\n",
    "import random\n",
    "import sys"
   ]
  },
  {
   "cell_type": "code",
   "execution_count": null,
   "metadata": {},
   "outputs": [],
   "source": [
    "def parse_fasta(fasta_file):\n",
    "   return SeqIO.to_dict(SeqIO.parse(fasta_file, \"fasta\"))\n",
    "parse_fasta('permut2.fasta')"
   ]
  },
  {
   "cell_type": "code",
   "execution_count": 30,
   "metadata": {},
   "outputs": [],
   "source": [
    "def create_json_structure(job_name, sequences, seeds=None, count=1):\n",
    "    \"\"\"Create the JSON structure with separate chains.\"\"\"\n",
    "    \n",
    "    if seeds is None:\n",
    "        seeds = []\n",
    "    return {\n",
    "\t\"modelSeeds\": seeds,\n",
    "        \"name\": job_name,\n",
    "        \"sequences\": [\n",
    "            {\n",
    "                \"proteinChain\": {\n",
    "                    \"sequence\": seq,\n",
    "                    \"count\": count\n",
    "                }\n",
    "            }\n",
    "            for i, seq in enumerate(sequences)\n",
    "        ],\n",
    "  }\n",
    "    \n",
    "\n",
    "def convert_fasta_to_json(fasta_file, seeds=None, count=1, output_dir=None):\n",
    "    \"\"\"Convert FASTA files to JSON format.\n",
    "    Each entry is split into it's own job and chains are split on `:` as in Colabfold.\n",
    "    Based on code from Julia Varga.\n",
    "    \"\"\"\n",
    "    if output_dir:\n",
    "        os.makedirs(output_dir, exist_ok=True)\n",
    "    \n",
    "    json_data=[]\n",
    "    list_of_jobs = parse_fasta(fasta_file)\n",
    "    for name, seq in list_of_jobs.items():    \n",
    "        # Create JSON structure\n",
    "\n",
    "        sequences = str(seq.seq).replace(' ','').split(':')\n",
    "        name = name.replace('(','_')\n",
    "        name = name.replace(')','_')\n",
    "        name = name.replace(';','_')\n",
    "        job_data = create_json_structure(name, sequences, seeds=seeds, count=count)\n",
    "        json_data.append(job_data)\n",
    "        \n",
    "\n",
    "    # Determine output path    \n",
    "    input_path = Path(fasta_file)\n",
    "    \n",
    "    output_filename = input_path.stem + '.json'\n",
    "    if output_dir:\n",
    "        output_path = Path(output_dir) / output_filename\n",
    "    else:\n",
    "        output_path = input_path.with_suffix('.json')\n",
    "    \n",
    "    # Write JSON file\n",
    "    with open(output_path, 'w') as f:\n",
    "        json.dump(json_data, f, indent=2)\n",
    "        \n",
    "\n",
    "convert_fasta_to_json(r\"D:\\OneDrive\\Projekti_KI\\SIDE\\2025-04-01__permuted_dimers\\permut2_noCC.fasta\")"
   ]
  }
 ],
 "metadata": {
  "kernelspec": {
   "display_name": "proper_conda",
   "language": "python",
   "name": "python3"
  },
  "language_info": {
   "codemirror_mode": {
    "name": "ipython",
    "version": 3
   },
   "file_extension": ".py",
   "mimetype": "text/x-python",
   "name": "python",
   "nbconvert_exporter": "python",
   "pygments_lexer": "ipython3",
   "version": "3.11.11"
  }
 },
 "nbformat": 4,
 "nbformat_minor": 2
}
